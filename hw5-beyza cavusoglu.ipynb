{
  "nbformat": 4,
  "nbformat_minor": 0,
  "metadata": {
    "colab": {
      "name": "maze_solver.ipynb",
      "provenance": [],
      "collapsed_sections": []
    },
    "kernelspec": {
      "name": "python3",
      "display_name": "Python 3"
    }
  },
  "cells": [
    {
      "cell_type": "markdown",
      "metadata": {
        "id": "nPPCRNIS5GVx",
        "colab_type": "text"
      },
      "source": [
        "# Programming homework for searching algorithms\n",
        "\n",
        "The problem is to provide a solution path to the maze with Depth First Search algorithm.\n",
        "\n",
        "As specified in assignments,\n",
        "*   Copy this notebook from the tab \"File > Save a copy in Drive\"\n",
        "*   Open the notebook that copied to your drive\n",
        "*   Go the drive folder that shared with the [link](https://drive.google.com/drive/folders/1D9mMXPrwydQnR0JT_0pf2W-rO4Bw1pGB?usp=sharing)\n",
        "*   Add the shared folder to your drive to access it from the notebook.\n",
        "\n",
        "\n",
        "\n",
        "The problem specifications:\n",
        "\n",
        "*   Initial position for all the multiple mazes that read is the point **\"(0,0)\"**\n",
        "*   Goal is to reach the max point **\"(N-1, M-1)\"**, where N and M corresponds to the height and width of the maze.\n",
        "*   The multiple mazes will be read from the file that is provided in the drive file shared with you\n",
        "*   The maze consists of **0**s and **1**s which **0s indicate a clear path** and **1s indicate a wall** that can not be moved\n",
        "*   To reach to the goal, you are required to provide a path consist of clear roads(0s)\n",
        "*   The reading and converting the path to the desired outputs have already been implemented which you **CANNOT** change in order to get full credits\n",
        "*   The exact outputs that your function expected to provide are printed it in the last code block given the expected output file.\n",
        "*   You need the provide the required function(s) that finds the path from initial position to the goal position using **Depth First Search**, which you may implement it with stack or recursively as you wish.\n",
        "\n",
        "\n",
        "The submission:\n",
        "*    Run all the code blocks after you finished your homework\n",
        "*    Download and submit the .ipynb file from the tab \"File > Download .ipynb\"\n",
        "\n",
        "\n",
        "For example, the solve_dfs function will take maze parameter as:\n",
        "\n",
        "\n",
        "```\n",
        "maze = [[0,0,0,0,0,0],\n",
        "        [0,1,0,0,0,0],\n",
        "        [0,0,1,1,1,0],\n",
        "        [0,0,0,0,0,0],\n",
        "        [1,0,0,0,1,0]]   \n",
        "```\n",
        "\n",
        "The returned path should be:\n",
        "\n",
        "\n",
        "\n",
        "```\n",
        "path => [(0, 0), (0, 1), (0, 2), (0, 3), (0, 4), (0, 5), (1, 5), (2, 5), (3, 5), (4, 5)]\n",
        "```\n",
        "\n",
        "where (x, y) is tuples.\n",
        "\n",
        "\n",
        "The directions extracted from this path is:\n",
        "\n",
        "\n",
        "\n",
        "```\n",
        "direction => R R R R R D D D D\n",
        "```\n"
      ]
    },
    {
      "cell_type": "markdown",
      "metadata": {
        "id": "4iucch5nca58",
        "colab_type": "text"
      },
      "source": [
        "### Mount your drive to access the files"
      ]
    },
    {
      "cell_type": "code",
      "metadata": {
        "id": "XwdWMs1Ncems",
        "colab_type": "code",
        "outputId": "deb4d215-248b-4b96-f5d2-6cd170254efe",
        "colab": {
          "base_uri": "https://localhost:8080/",
          "height": 126
        }
      },
      "source": [
        "from google.colab import drive\n",
        "drive.mount('/content/drive', force_remount=True)"
      ],
      "execution_count": 1,
      "outputs": [
        {
          "output_type": "stream",
          "text": [
            "Go to this URL in a browser: https://accounts.google.com/o/oauth2/auth?client_id=947318989803-6bn6qk8qdgf4n4g3pfee6491hc0brc4i.apps.googleusercontent.com&redirect_uri=urn%3aietf%3awg%3aoauth%3a2.0%3aoob&response_type=code&scope=email%20https%3a%2f%2fwww.googleapis.com%2fauth%2fdocs.test%20https%3a%2f%2fwww.googleapis.com%2fauth%2fdrive%20https%3a%2f%2fwww.googleapis.com%2fauth%2fdrive.photos.readonly%20https%3a%2f%2fwww.googleapis.com%2fauth%2fpeopleapi.readonly\n",
            "\n",
            "Enter your authorization code:\n",
            "··········\n",
            "Mounted at /content/drive\n"
          ],
          "name": "stdout"
        }
      ]
    },
    {
      "cell_type": "markdown",
      "metadata": {
        "id": "E9W5h_rdAemG",
        "colab_type": "text"
      },
      "source": [
        "### Modules that needed (You won't need any other module to implement the search algorithm)"
      ]
    },
    {
      "cell_type": "code",
      "metadata": {
        "id": "AoPnY9oS4Nw4",
        "colab_type": "code",
        "colab": {}
      },
      "source": [
        "import collections\n",
        "import numpy as np"
      ],
      "execution_count": 0,
      "outputs": []
    },
    {
      "cell_type": "markdown",
      "metadata": {
        "id": "w0qxazLRApog",
        "colab_type": "text"
      },
      "source": [
        "### Functions that already implemented"
      ]
    },
    {
      "cell_type": "code",
      "metadata": {
        "id": "WanwgivwAXuM",
        "colab_type": "code",
        "colab": {}
      },
      "source": [
        "def read_mazes(input_file):\n",
        "    mazes = []\n",
        "\n",
        "    with open(input_file, 'r') as maze_file:\n",
        "        maze = []\n",
        "        \n",
        "        for line in maze_file:\n",
        "            if line != '\\n':\n",
        "                maze.append(line.replace('\\n','').split(','))\n",
        "            else:\n",
        "                mazes.append(np.array(maze, dtype=int))\n",
        "                maze = []\n",
        "\n",
        "        if len(maze) > 0:\n",
        "            mazes.append(np.array(maze, dtype=int))\n",
        "    \n",
        "    return mazes"
      ],
      "execution_count": 0,
      "outputs": []
    },
    {
      "cell_type": "code",
      "metadata": {
        "id": "DhiedC0gAdnQ",
        "colab_type": "code",
        "colab": {}
      },
      "source": [
        "def get_directions(path):\n",
        "    directions = \"\"\n",
        "\n",
        "    current_cell = path[0]\n",
        "\n",
        "    for cell in path[1:]:\n",
        "        if current_cell[0] == cell[0]:\n",
        "            if cell[1] - current_cell[1] > 0:\n",
        "                directions += \"R \"\n",
        "            else:\n",
        "                directions += \"L \"\n",
        "        else:\n",
        "            if cell[0] - current_cell[0] > 0:\n",
        "                directions += \"D \"\n",
        "            else:\n",
        "                directions += \"U \"\n",
        "        current_cell = cell\n",
        "\n",
        "    return directions.strip()"
      ],
      "execution_count": 0,
      "outputs": []
    },
    {
      "cell_type": "markdown",
      "metadata": {
        "id": "VzL4kid-BAj9",
        "colab_type": "text"
      },
      "source": [
        "### Depth First Search algorithm which you will implement \n",
        "\n",
        "\n",
        "\n",
        "*   **The function takes 2d numpy array maze as a single parameter**\n",
        "*   **Returns a list of points that starts from (0,0) an ends with (N-1,M-1)**\n",
        "*   **Returns None if goal can not be reached from the initial position**\n",
        "*   Read the initial instructions if not clear\n",
        "\n",
        "Also, you can implement multiple functions as you like or just use this function.\n",
        "\n",
        "**HOWEVER**, the **solve_dfs** function name **MUST** remain same and **MUST** take a **single parameter maze**\n",
        "\n",
        "So, any other functions that you would fine it useful should be called from inside the solve_dfs function"
      ]
    },
    {
      "cell_type": "code",
      "metadata": {
        "id": "_qphKwkfA_AM",
        "colab_type": "code",
        "colab": {}
      },
      "source": [
        "def solve_dfs(maze):\n",
        "    start = (0, 0)\n",
        "    goal = (maze.shape[0]-1, maze.shape[1]-1)\n",
        "    width = maze.shape[0]\n",
        "    height = maze.shape[1]\n",
        "    myrange = width*height\n",
        "    neighborstack = []\n",
        "    visited = []   # list for keeping already visited nodes\n",
        "    path=[]\n",
        "    neighborstack.append(start) # as a start, I add start point tuple to stack\n",
        "    \n",
        "    for ind in range (myrange):      \n",
        "        if len(neighborstack) > 0:      # don't pop if stack has no element\n",
        "            current_node = neighborstack.pop() # assign a current node\n",
        "            while current_node in visited and len(neighborstack) > 0:\n",
        "                current_node = neighborstack.pop()\n",
        "            visited.append(current_node)\n",
        "           \n",
        "        if current_node != goal:\n",
        "         #add current node to path\n",
        "            foundbool = False\n",
        "            path.append(current_node)\n",
        "            #loop for checking if backtracking is done correct and removed nodes are deleted from path.\n",
        "            #check by 3 condition: 1-2)if are there any two of x,y point tuples in path list that x or y points differed more than 1 or if both changed\n",
        "            #this means some steps are jumped, backtracking not correct\n",
        "            while len(path) > 1:\n",
        "                if (abs(path[-1][0] - path[-2][0]) > 1) or (abs(path[-1][1] - path[-2][1]) > 1) or (path[-1][0] != path[-2][0] and path[-1][1] != path[-2][1]):\n",
        "                    path.pop(-2)\n",
        "                else:\n",
        "                    break\n",
        "                                \n",
        "            #check up node\n",
        "            if (current_node[0]-1) >= 0:\n",
        "                upnode = (current_node[0]-1, current_node[1])\n",
        "                if upnode not in visited and maze[upnode[0]][upnode[1]] == 0:\n",
        "                    neighborstack.append(upnode)\n",
        "                    foundbool=True\n",
        "                    \n",
        "            #check left node\n",
        "            if (current_node[1]-1) >= 0:\n",
        "                leftnode = (current_node[0], current_node[1]-1)\n",
        "                if leftnode not in visited and maze[leftnode[0]][leftnode[1]] == 0:\n",
        "                    neighborstack.append(leftnode)\n",
        "                    foundbool=True        \n",
        "                    \n",
        "            #check down node\n",
        "            if (current_node[0]+1) < width:\n",
        "                downnode = (current_node[0]+1, current_node[1])\n",
        "                if downnode not in visited and maze[downnode[0]][downnode[1]] == 0:\n",
        "                    neighborstack.append(downnode)\n",
        "                    foundbool=True\n",
        "                    \n",
        "            #check right node\n",
        "            if (current_node[1]+1) < height:\n",
        "                rightnode = (current_node[0], current_node[1]+1)\n",
        "                if rightnode not in visited and maze[rightnode[0]][rightnode[1]] == 0:\n",
        "                    neighborstack.append(rightnode)\n",
        "                    foundbool=True\n",
        "            #if there is no neighbor found to go, delete current from path list\n",
        "            if foundbool == False:\n",
        "                path.pop()\n",
        "        #if goal reached, break    \n",
        "        else:\n",
        "            path.append(current_node)\n",
        "            break\n",
        "    #if path list has no element = empty\n",
        "    if len(path) == 0:\n",
        "        path = None\n",
        "    #if the goal is not reached\n",
        "    if path[-1] != goal:\n",
        "        path = None\n",
        "         \n",
        "    return path               \n",
        "    ### You may define this solve_dfs function in any way you want or just use this function."
      ],
      "execution_count": 0,
      "outputs": []
    },
    {
      "cell_type": "markdown",
      "metadata": {
        "id": "--OJNEf3EZzg",
        "colab_type": "text"
      },
      "source": [
        "### Main code block that reads the mazes, run the search algorithm and returns the path and prints the directions that reach to the goal"
      ]
    },
    {
      "cell_type": "code",
      "metadata": {
        "id": "bEEXOvF-EUI1",
        "colab_type": "code",
        "outputId": "554ce4e6-c409-4fb9-e7e7-7844583d20b7",
        "colab": {
          "base_uri": "https://localhost:8080/",
          "height": 372
        }
      },
      "source": [
        "mazes = read_mazes('/content/drive/My Drive/CS404_DFS_HW/input.txt')\n",
        "\n",
        "for maze, ind in zip(mazes, range(1, len(mazes)+1)):\n",
        "    path = solve_dfs(maze)\n",
        "\n",
        "    if path != None:\n",
        "        directions = get_directions(path)\n",
        "        print(str(ind) + \") \" + directions + '\\n')\n",
        "    else:\n",
        "        print(str(ind) + ') Could not find a path...\\n')"
      ],
      "execution_count": 44,
      "outputs": [
        {
          "output_type": "stream",
          "text": [
            "1) R R R R R R R R R D D L D D R\n",
            "\n",
            "2) D D R D R R R D\n",
            "\n",
            "3) R R D L D L D D R R U R U R R D D D R R U U U U U R R D D D D D D\n",
            "\n",
            "4) D D R D R R R D\n",
            "\n",
            "5) Could not find a path...\n",
            "\n",
            "6) R R R R R D D D D\n",
            "\n",
            "7) R R D L D L D D R R R U U R R D R R R D D\n",
            "\n",
            "8) D R R R R U R R R D R R R R D R R D R R R R R R U R U U R R R R R R D D D R R D D L L D L L L D D L D D R D R R R R R D D R D\n",
            "\n",
            "9) R R R R R R D R R R R R D R D R R R R R R D R D L D L D D L L U R U L L L D D D L L L D D R R R D D R R R R R R D D D L L D D R D R D D D D L D D D R D L D D R\n",
            "\n",
            "10) D R D D D D D R R D D L L D D R D R R R D L D D R R R R R R D L D D R R R R D L L D D R D R D R R R R R R R R R R R R R D D R R R D D D D D\n",
            "\n"
          ],
          "name": "stdout"
        }
      ]
    },
    {
      "cell_type": "markdown",
      "metadata": {
        "id": "45lkcxRjMg_o",
        "colab_type": "text"
      },
      "source": [
        "### Expected output that your algorithm should print"
      ]
    },
    {
      "cell_type": "code",
      "metadata": {
        "id": "AqRZ-P9HMsFJ",
        "colab_type": "code",
        "outputId": "b8125cbc-2c88-4207-9288-e5d020fb300d",
        "colab": {
          "base_uri": "https://localhost:8080/",
          "height": 372
        }
      },
      "source": [
        "with open('/content/drive/My Drive/CS404_DFS_HW/expected_output.txt') as expected_output:\n",
        "    for expected_direction, ind in zip(expected_output, range(1, len(mazes)+1)):\n",
        "        print(str(ind) + ') ' + expected_direction)"
      ],
      "execution_count": 45,
      "outputs": [
        {
          "output_type": "stream",
          "text": [
            "1) R R R R R R R R R D D L D D R\n",
            "\n",
            "2) D D R D R R R D\n",
            "\n",
            "3) R R D L D L D D R R U R U R R D D D R R U U U U U R R D D D D D D\n",
            "\n",
            "4) D D R D R R R D\n",
            "\n",
            "5) Could not find a path...\n",
            "\n",
            "6) R R R R R D D D D\n",
            "\n",
            "7) R R D L D L D D R R R U U R R D R R R D D\n",
            "\n",
            "8) D R R R R U R R R D R R R R D R R D R R R R R R U R U U R R R R R R D D D R R D D L L D L L L D D L D D R D R R R R R D D R D\n",
            "\n",
            "9) R R R R R R D R R R R R D R D R R R R R R D R D L D L D D L L U R U L L L D D D L L L D D R R R D D R R R R R R D D D L L D D R D R D D D D L D D D R D L D D R\n",
            "\n",
            "10) D R D D D D D R R D D L L D D R D R R R D L D D R R R R R R D L D D R R R R D L L D D R D R D R R R R R R R R R R R R R D D R R R D D D D D\n",
            "\n"
          ],
          "name": "stdout"
        }
      ]
    }
  ]
}
